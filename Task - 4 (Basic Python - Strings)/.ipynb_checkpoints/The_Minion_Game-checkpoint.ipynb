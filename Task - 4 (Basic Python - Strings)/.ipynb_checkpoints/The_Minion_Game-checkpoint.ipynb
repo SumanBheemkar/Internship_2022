{
 "cells": [
  {
   "cell_type": "code",
   "execution_count": 2,
   "metadata": {},
   "outputs": [],
   "source": [
    "def minion_game(s):\n",
    "    s1=0\n",
    "    s2=0\n",
    "    vow='AEIOU'\n",
    "    for i in range(len(s)):\n",
    "        if s[i] not in vow:\n",
    "            s1 =s1+(len(s)-i)\n",
    "        else:\n",
    "            s2 = s2+(len(s)-i)\n",
    "    if s1>s2:\n",
    "        print('Stuart',s1)\n",
    "    elif s2>s1:\n",
    "        print('Kevin',s2)\n",
    "    else:\n",
    "        print('Draw')"
   ]
  },
  {
   "cell_type": "code",
   "execution_count": 4,
   "metadata": {},
   "outputs": [
    {
     "name": "stdout",
     "output_type": "stream",
     "text": [
      "Stuart 12\n"
     ]
    }
   ],
   "source": [
    "s = 'BANANA'\n",
    "minion_game(s)"
   ]
  },
  {
   "cell_type": "code",
   "execution_count": null,
   "metadata": {},
   "outputs": [],
   "source": []
  }
 ],
 "metadata": {
  "kernelspec": {
   "display_name": "Python 3",
   "language": "python",
   "name": "python3"
  },
  "language_info": {
   "codemirror_mode": {
    "name": "ipython",
    "version": 3
   },
   "file_extension": ".py",
   "mimetype": "text/x-python",
   "name": "python",
   "nbconvert_exporter": "python",
   "pygments_lexer": "ipython3",
   "version": "3.8.3"
  }
 },
 "nbformat": 4,
 "nbformat_minor": 4
}
