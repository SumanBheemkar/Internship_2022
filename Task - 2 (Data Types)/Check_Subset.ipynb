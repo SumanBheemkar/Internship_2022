{
 "cells": [
  {
   "cell_type": "code",
   "execution_count": null,
   "metadata": {},
   "outputs": [],
   "source": [
    "t = int(input())\n",
    "for i in range(t):\n",
    "    n = int(input())\n",
    "    A = set(map(int, input().split()))\n",
    "    m = int(input())\n",
    "    B = set(map(int, input().split()))\n",
    "    l = []\n",
    "    for i in A:\n",
    "        if i in B:\n",
    "            l.append(i)\n",
    "    l = set(l)\n",
    "    if l == A:\n",
    "        print(True)\n",
    "    else:\n",
    "        print(False) "
   ]
  },
  {
   "cell_type": "code",
   "execution_count": 1,
   "metadata": {},
   "outputs": [
    {
     "name": "stdout",
     "output_type": "stream",
     "text": [
      "5\n",
      "1 2 3 5 6\n",
      "9\n",
      "9 8 5 6 3 2 1 4 7\n",
      "True\n"
     ]
    }
   ],
   "source": [
    "n = int(input())\n",
    "A = set(map(int, input().split()))\n",
    "m = int(input())\n",
    "B = set(map(int, input().split()))\n",
    "print(A.issubset(B))"
   ]
  }
 ],
 "metadata": {
  "kernelspec": {
   "display_name": "Python 3",
   "language": "python",
   "name": "python3"
  },
  "language_info": {
   "codemirror_mode": {
    "name": "ipython",
    "version": 3
   },
   "file_extension": ".py",
   "mimetype": "text/x-python",
   "name": "python",
   "nbconvert_exporter": "python",
   "pygments_lexer": "ipython3",
   "version": "3.8.3"
  }
 },
 "nbformat": 4,
 "nbformat_minor": 4
}
