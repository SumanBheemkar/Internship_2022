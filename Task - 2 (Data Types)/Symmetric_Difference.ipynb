{
 "cells": [
  {
   "cell_type": "code",
   "execution_count": null,
   "metadata": {},
   "outputs": [],
   "source": [
    "a = int(input())\n",
    "m = set([int(i) for i in input().split(\" \")])\n",
    "b = int(input())\n",
    "n = set([int(i) for i in input().split(\" \")])\n",
    "c = m.union(n)\n",
    "d = m.intersection(n)\n",
    "sym_diff = c - d\n",
    "val = [i for i in sym_diff]\n",
    "val.sort()\n",
    "for i in val:\n",
    "    print(i)"
   ]
  }
 ],
 "metadata": {
  "kernelspec": {
   "display_name": "Python 3",
   "language": "python",
   "name": "python3"
  },
  "language_info": {
   "codemirror_mode": {
    "name": "ipython",
    "version": 3
   },
   "file_extension": ".py",
   "mimetype": "text/x-python",
   "name": "python",
   "nbconvert_exporter": "python",
   "pygments_lexer": "ipython3",
   "version": "3.8.3"
  }
 },
 "nbformat": 4,
 "nbformat_minor": 4
}
