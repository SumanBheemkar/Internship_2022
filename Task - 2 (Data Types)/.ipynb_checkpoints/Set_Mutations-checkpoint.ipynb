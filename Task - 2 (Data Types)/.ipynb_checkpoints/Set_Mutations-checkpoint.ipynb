{
 "cells": [
  {
   "cell_type": "code",
   "execution_count": null,
   "metadata": {},
   "outputs": [],
   "source": [
    "a = int(input())\n",
    "A = set(map(int, input().split()))\n",
    "\n",
    "for i in range(int(input())):\n",
    "    operation = list(input().split())\n",
    "    if operation[0] == 'update':\n",
    "        s = set(int(x) for x in input('').split(\" \"))\n",
    "        A.update(s)\n",
    "    elif operation[0] == 'intersection_update':\n",
    "        s = set(int(x) for x in input('').split(\" \"))\n",
    "        A.intersection_update(s)\n",
    "    elif operation[0] == 'symmetric_difference_update':\n",
    "        s = set(int(x) for x in input('').split(\" \"))\n",
    "        A.symmetric_difference_update(s)\n",
    "    elif operation[0] == 'difference_update':\n",
    "        s = set(int(x) for x in input('').split(\" \"))\n",
    "        A.difference_update(s)\n",
    "\n",
    "res = 0\n",
    "for i in A:\n",
    "    res = res + i\n",
    "print(res)"
   ]
  },
  {
   "cell_type": "code",
   "execution_count": null,
   "metadata": {},
   "outputs": [],
   "source": []
  }
 ],
 "metadata": {
  "kernelspec": {
   "display_name": "Python 3",
   "language": "python",
   "name": "python3"
  },
  "language_info": {
   "codemirror_mode": {
    "name": "ipython",
    "version": 3
   },
   "file_extension": ".py",
   "mimetype": "text/x-python",
   "name": "python",
   "nbconvert_exporter": "python",
   "pygments_lexer": "ipython3",
   "version": "3.8.3"
  }
 },
 "nbformat": 4,
 "nbformat_minor": 4
}
