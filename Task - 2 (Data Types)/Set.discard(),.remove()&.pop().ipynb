{
 "cells": [
  {
   "cell_type": "code",
   "execution_count": null,
   "metadata": {},
   "outputs": [],
   "source": [
    "n = int(input())\n",
    "s = set(map(int, input().split()))\n",
    "number_of_commands = int(input())\n",
    "\n",
    "for i in range(number_of_commands):\n",
    "    command = input().split()\n",
    "    if command[0] == \"pop\":\n",
    "        s.pop()\n",
    "    elif command[0] == \"remove\":\n",
    "        s.remove(int(command[1]))\n",
    "    elif command[0] == \"discard\":\n",
    "        s.discard(int(command[1]))\n",
    "    \n",
    "total = 0\n",
    "for i in s:\n",
    "    total = total + i\n",
    "print(total)"
   ]
  }
 ],
 "metadata": {
  "kernelspec": {
   "display_name": "Python 3",
   "language": "python",
   "name": "python3"
  },
  "language_info": {
   "codemirror_mode": {
    "name": "ipython",
    "version": 3
   },
   "file_extension": ".py",
   "mimetype": "text/x-python",
   "name": "python",
   "nbconvert_exporter": "python",
   "pygments_lexer": "ipython3",
   "version": "3.8.3"
  }
 },
 "nbformat": 4,
 "nbformat_minor": 4
}
