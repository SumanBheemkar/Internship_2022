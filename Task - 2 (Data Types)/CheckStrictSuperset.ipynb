{
 "cells": [
  {
   "cell_type": "code",
   "execution_count": 1,
   "metadata": {},
   "outputs": [
    {
     "name": "stdout",
     "output_type": "stream",
     "text": [
      "1 2 3 4 5 6 7 8 9 10 11 12 23 45 84 78\n",
      "2\n",
      "1 2 3 4 5\n",
      "100 11 12\n",
      "False\n"
     ]
    }
   ],
   "source": [
    "A = set(map(int, input().split()))\n",
    "n = int(input())\n",
    "output = True\n",
    "for i in range(n):\n",
    "    sub = set(map(int, input().split()))\n",
    "    if not sub.issubset(A):\n",
    "        output = False\n",
    "    if len(sub) == len(A):\n",
    "        output = False\n",
    "print(output)"
   ]
  },
  {
   "cell_type": "code",
   "execution_count": null,
   "metadata": {},
   "outputs": [],
   "source": [
    "Example\n",
    "Set([1,3,4]) is a strict superset of set.([1,3])\n",
    "Set ([1,3,4])is not a strict superset of set.([1,3,4])\n",
    "Set ([1,3,4])is not a strict superset of set.([1,3,5])"
   ]
  }
 ],
 "metadata": {
  "kernelspec": {
   "display_name": "Python 3",
   "language": "python",
   "name": "python3"
  },
  "language_info": {
   "codemirror_mode": {
    "name": "ipython",
    "version": 3
   },
   "file_extension": ".py",
   "mimetype": "text/x-python",
   "name": "python",
   "nbconvert_exporter": "python",
   "pygments_lexer": "ipython3",
   "version": "3.8.3"
  }
 },
 "nbformat": 4,
 "nbformat_minor": 4
}
