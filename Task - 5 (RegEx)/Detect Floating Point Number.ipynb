{
 "cells": [
  {
   "cell_type": "code",
   "execution_count": null,
   "metadata": {},
   "outputs": [
    {
     "name": "stdout",
     "output_type": "stream",
     "text": [
      "4\n",
      "4.000\n",
      "True\n",
      "-1.00\n",
      "True\n",
      "+4.54\n",
      "True\n"
     ]
    }
   ],
   "source": [
    "import re\n",
    "n = int(input())\n",
    "pattern = r'^[+-]?[0-9]*\\.[0-9]+$'\n",
    "for i in range(n):\n",
    "    s = input()\n",
    "    print(bool(re.match(pattern, s)))"
   ]
  },
  {
   "cell_type": "code",
   "execution_count": null,
   "metadata": {},
   "outputs": [],
   "source": []
  }
 ],
 "metadata": {
  "kernelspec": {
   "display_name": "Python 3",
   "language": "python",
   "name": "python3"
  }
 },
 "nbformat": 4,
 "nbformat_minor": 4
}
