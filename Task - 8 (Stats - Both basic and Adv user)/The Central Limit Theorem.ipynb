{
 "cells": [
  {
   "cell_type": "markdown",
   "metadata": {},
   "source": [
    "# The Central Limit Theorem I"
   ]
  },
  {
   "cell_type": "code",
   "execution_count": 2,
   "metadata": {},
   "outputs": [
    {
     "name": "stdout",
     "output_type": "stream",
     "text": [
      "9800\n",
      "49\n",
      "205\n",
      "15\n",
      "0.0098\n"
     ]
    }
   ],
   "source": [
    "import math\n",
    "\n",
    "def cumulative(mean, std, value):\n",
    "    return 0.5 * (1 + math.erf((value - mean) / (std * (2 ** 0.5))))\n",
    "\n",
    "max_load = float(input())\n",
    "n = int(input())\n",
    "mean = int(input())\n",
    "std = int(input())\n",
    "\n",
    "new_mean = mean * n\n",
    "new_std = math.sqrt(n) * std\n",
    "print (round(cumulative(new_mean, new_std, max_load),4))"
   ]
  },
  {
   "cell_type": "markdown",
   "metadata": {},
   "source": [
    "# The Central Limit Theorem II"
   ]
  },
  {
   "cell_type": "code",
   "execution_count": 5,
   "metadata": {},
   "outputs": [
    {
     "name": "stdout",
     "output_type": "stream",
     "text": [
      "250\n",
      "100\n",
      "2.4\n",
      "2.0\n",
      "0.6915\n"
     ]
    }
   ],
   "source": [
    "import math\n",
    "\n",
    "# Define functions\n",
    "def cumulative(mean, std, value):\n",
    "    return 0.5 * (1 + math.erf((value - mean) / (std * (2 ** 0.5))))\n",
    "\n",
    "# Set data\n",
    "max_tickets = int(input())\n",
    "n = int(input())\n",
    "mean = float(input())\n",
    "std = float(input())\n",
    "\n",
    "new_mean = mean * n\n",
    "new_std = math.sqrt(n) * std\n",
    "\n",
    "# Gets the result and show on the screen\n",
    "print (round(cumulative(new_mean, new_std,max_tickets),4))"
   ]
  },
  {
   "cell_type": "markdown",
   "metadata": {},
   "source": [
    "# The Central Limit Theorem III\n",
    "\n"
   ]
  },
  {
   "cell_type": "code",
   "execution_count": 11,
   "metadata": {},
   "outputs": [
    {
     "name": "stdout",
     "output_type": "stream",
     "text": [
      "100\n",
      "500\n",
      "80\n",
      ".95\n",
      "1.95\n",
      "484.4\n",
      "515.6\n"
     ]
    }
   ],
   "source": [
    "import math\n",
    "\n",
    "sample_n = float(input())\n",
    "mean = float(input())\n",
    "std = float(input())\n",
    "confidence_interval = float(input())\n",
    "z_value_ci = float(input())\n",
    "\n",
    "# Formula CI\n",
    "ci = z_value_ci * (std / math.sqrt(sample_n))\n",
    "\n",
    "print(round(mean - ci, 2))\n",
    "print(round(mean + ci, 2))"
   ]
  }
 ],
 "metadata": {
  "kernelspec": {
   "display_name": "Python 3",
   "language": "python",
   "name": "python3"
  },
  "language_info": {
   "codemirror_mode": {
    "name": "ipython",
    "version": 3
   },
   "file_extension": ".py",
   "mimetype": "text/x-python",
   "name": "python",
   "nbconvert_exporter": "python",
   "pygments_lexer": "ipython3",
   "version": "3.8.3"
  }
 },
 "nbformat": 4,
 "nbformat_minor": 4
}
