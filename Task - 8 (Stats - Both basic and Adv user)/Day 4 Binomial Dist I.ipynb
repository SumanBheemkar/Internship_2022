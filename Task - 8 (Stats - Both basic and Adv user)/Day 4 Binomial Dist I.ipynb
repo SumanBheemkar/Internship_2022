{
 "cells": [
  {
   "cell_type": "code",
   "execution_count": 1,
   "metadata": {},
   "outputs": [
    {
     "name": "stdout",
     "output_type": "stream",
     "text": [
      "0.696\n"
     ]
    }
   ],
   "source": [
    "import math\n",
    "p = 1.09/(1+1.09)\n",
    "q=1-p\n",
    "a = 0\n",
    "for i in range(3):\n",
    "    a = a + math.factorial(6) / math.factorial(i) / math.factorial(6-i) * p**i * (1-p)**(6-i)\n",
    "print(round(1-a, 3))"
   ]
  },
  {
   "cell_type": "code",
   "execution_count": null,
   "metadata": {},
   "outputs": [],
   "source": []
  }
 ],
 "metadata": {
  "kernelspec": {
   "display_name": "Python 3",
   "language": "python",
   "name": "python3"
  },
  "language_info": {
   "codemirror_mode": {
    "name": "ipython",
    "version": 3
   },
   "file_extension": ".py",
   "mimetype": "text/x-python",
   "name": "python",
   "nbconvert_exporter": "python",
   "pygments_lexer": "ipython3",
   "version": "3.8.3"
  }
 },
 "nbformat": 4,
 "nbformat_minor": 4
}
