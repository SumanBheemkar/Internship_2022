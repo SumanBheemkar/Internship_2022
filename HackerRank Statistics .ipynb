{
 "cells": [
  {
   "cell_type": "code",
   "execution_count": 4,
   "metadata": {},
   "outputs": [
    {
     "name": "stdout",
     "output_type": "stream",
     "text": [
      "1.09 1\n",
      "0.696\n"
     ]
    }
   ],
   "source": [
    "# Question: The ratio of boys to girls for babies born in Russia is 1.09 : 1.\n",
    "# If there is 1 child born per birth, what proportion of Russian families with\n",
    "# exactly 6 children will have at least 3 boys?\n",
    "\n",
    "# Define functions\n",
    "def factorial(n):\n",
    "    if n == 1 or n == 0:\n",
    "        return 1\n",
    "    if n > 1:\n",
    "        return factorial(n - 1) * n\n",
    "\n",
    "def binomial(x, n, p):\n",
    "    f = factorial(n) / (factorial(n - x) * factorial(x))\n",
    "    return (f * p**x * (1.0 - p)**(n-x))\n",
    "\n",
    "# Set data\n",
    "values = list(map(float, input().split()))\n",
    "p = values[0] / (values[0] + values[1])\n",
    "n = 6\n",
    "\n",
    "# Get binomial result\n",
    "result = binomial(3,n,p) + binomial(4,n,p) + binomial(5,n,p) + binomial(6,n,p)\n",
    "print(round(result, 3))"
   ]
  },
  {
   "cell_type": "code",
   "execution_count": 5,
   "metadata": {},
   "outputs": [
    {
     "name": "stdout",
     "output_type": "stream",
     "text": [
      "12 10\n",
      "0.891\n",
      "0.342\n"
     ]
    }
   ],
   "source": [
    "# Question: A manufacturer of metal pistons finds that, on average, 12% of the\n",
    "# pistons they manufacture are rejected because they are incorrectly sized.\n",
    "# What is the probability that a batch of 10 pistons will contain:\n",
    "\n",
    "# Define functions\n",
    "def factorial(n):\n",
    "    if n == 1 or n == 0:\n",
    "        return 1\n",
    "    if n > 1:\n",
    "        return factorial(n - 1) * n\n",
    "\n",
    "def binomial(x, n, p):\n",
    "    f = factorial(n) / (factorial(n - x) * factorial(x))\n",
    "    return (f * p**x * (1.0 - p)**(n-x))\n",
    "\n",
    "# Set data\n",
    "values = list(map(float, input().split()))\n",
    "p = (values[0] / 100)\n",
    "n = int(values[1])\n",
    "\n",
    "# First rule: No more than 2 rejects\n",
    "no_more_than_2_rejects = 0\n",
    "for i in range(n):\n",
    "    if i < 3:\n",
    "        no_more_than_2_rejects = no_more_than_2_rejects + binomial(i, n, p)\n",
    "print(round(no_more_than_2_rejects, 3))\n",
    "\n",
    "# Second rule: At least 2 rejects\n",
    "at_least_2_rejects = 0\n",
    "for i in range(n):\n",
    "    if i > 1:\n",
    "        at_least_2_rejects = at_least_2_rejects + binomial(i, n, p)\n",
    "print(round(at_least_2_rejects, 3))"
   ]
  },
  {
   "cell_type": "code",
   "execution_count": 6,
   "metadata": {},
   "outputs": [
    {
     "name": "stdout",
     "output_type": "stream",
     "text": [
      "0.891\n",
      "0.342\n"
     ]
    }
   ],
   "source": [
    "import math\n",
    "\n",
    "p=0.12\n",
    "q=1-p\n",
    "result1=0\n",
    "for i in range(3):\n",
    "    result1 +=math.factorial(10)/math.factorial(i)/math.factorial(10-i)*(p**i)*(q**(10-i))\n",
    "    if i==1:\n",
    "        result2=1-result1\n",
    "print(round(result1,3))\n",
    "print(round(result2,3))"
   ]
  },
  {
   "cell_type": "code",
   "execution_count": 1,
   "metadata": {},
   "outputs": [
    {
     "name": "stdout",
     "output_type": "stream",
     "text": [
      "20 2\n",
      "19.5\n",
      "20 22\n",
      "0.401\n",
      "0.341\n"
     ]
    }
   ],
   "source": [
    "# Question: In a certain plant, the time taken to assemble a car is a random\n",
    "# variable, X, having a normal distribution with a mean of 20 hours and a\n",
    "# standard deviation of 2 hours. What is the probability that a car can be\n",
    "# assembled at this plant in:\n",
    "# 1. Less than 19.5 hours?\n",
    "# 2. Between 20 and 22 hours?\n",
    "\n",
    "# Import library\n",
    "import math\n",
    "\n",
    "# Define functions\n",
    "def cumulative(mean, std, value):\n",
    "    return 0.5 * (1 + math.erf((value - mean) / (std * (2 ** 0.5))))\n",
    "\n",
    "# Set data\n",
    "initial_values = list(map(float, input().split()))\n",
    "mean = initial_values[0]\n",
    "std = initial_values[1]\n",
    "less_period = float(input())\n",
    "between_period = list(map(float, input().split()))\n",
    "\n",
    "# Gets the result and show on the screen\n",
    "print (round(cumulative(mean, std, less_period),3))\n",
    "print (round(cumulative(mean, std, between_period[1]) - cumulative(mean, std, between_period[0]), 3))"
   ]
  },
  {
   "cell_type": "code",
   "execution_count": null,
   "metadata": {},
   "outputs": [],
   "source": [
    "# Enter your code here. Read input from STDIN. Print output to STDOUT\n",
    "import numpy as np\n",
    "for i in input().strip().split(' '):\n",
    "    m,n = [int(i) for i in input().strip().split(' ')]\n",
    "X = []\n",
    "Y = []\n",
    "for i in range(n):\n",
    "    data = input().strip().split(' ')\n",
    "    X.append(data[:m])\n",
    "    Y.append(data[m:])\n",
    "\n",
    "q = int(input().strip())\n",
    "X_new = []\n",
    "for x in range(q):\n",
    "    X_new.append(input().strip().split(' '))\n",
    "X = np.array(X,float)\n",
    "Y = np.array(Y,float)\n",
    "X_new = np.array(X_new,float)\n",
    "\n",
    "#center\n",
    "X_R = X-np.mean(X,axis=0)\n",
    "Y_R = Y-np.mean(Y)\n",
    "\n",
    "#calculate beta\n",
    "beta = np.dot(np.linalg.inv(np.dot(X_R.T,X_R)),np.dot(X_R.T,Y_R))\n",
    "\n",
    "#predict\n",
    "X_new_R = X_new-np.mean(X,axis=0)\n",
    "Y_new_R = np.dot(X_new_R,beta)\n",
    "Y_new = Y_new_R + np.mean(Y)\n",
    "\n",
    "#print\n",
    "for i in Y_new:\n",
    "    print(round(float(i),2))"
   ]
  },
  {
   "cell_type": "code",
   "execution_count": null,
   "metadata": {},
   "outputs": [],
   "source": [
    "# Question: The final grades for a Physics exam taken by a large group of\n",
    "# students have a mean of mi = 70 and a standard deviation of sigma = 10.\n",
    "# If we can approximate the distribution of these grades by a normal\n",
    "# distribution, what percentage of the students:\n",
    "# 1. Scored higher than 80 (i.e., have a grade > 80)?\n",
    "# 2. Passed the test (i.e., have a grade >= 60)?\n",
    "# 3. Failed the test (i.e., have a grade < 60)?\n",
    "\n",
    "# Import library\n",
    "import math\n",
    "\n",
    "# Define functions\n",
    "def cumulative(mean, std, value):\n",
    "    return 0.5 * (1 + math.erf((value - mean) / (std * (2 ** 0.5))))\n",
    "\n",
    "# Set data\n",
    "initial_values = list(map(float, input().split()))\n",
    "mean = initial_values[0]\n",
    "std = initial_values[1]\n",
    "val_first_question = float(input())\n",
    "val_sec_third_question = float(input())\n",
    "\n",
    "# Gets the result and show on the screen\n",
    "print (round(100 - (cumulative(mean, std, val_first_question) * 100), 2))\n",
    "print (round(100 - (cumulative(mean, std, val_sec_third_question) * 100), 2))\n",
    "print (round(cumulative(mean, std, val_sec_third_question) * 100, 2))"
   ]
  },
  {
   "cell_type": "code",
   "execution_count": null,
   "metadata": {},
   "outputs": [],
   "source": [
    "# Enter your code here. Read input from STDIN. Print output to STDOUT\n",
    "import numpy as np\n",
    "for i in input().strip().split(' '):\n",
    "    m,n = [int(i) for i in input().strip().split(' ')]\n",
    "X = []\n",
    "Y = []\n",
    "for i in range(n):\n",
    "    data = input().strip().split(' ')\n",
    "    X.append(data[:m])\n",
    "    Y.append(data[m:])\n",
    "q = int(input().strip())\n",
    "X_new = []\n",
    "for x in range(q):\n",
    "    X_new.append(input().strip().split(' '))\n",
    "X = np.array(X,float)\n",
    "Y = np.array(Y,float)\n",
    "X_new = np.array(X_new,float)\n",
    "\n",
    "#center\n",
    "X_R = X-np.mean(X,axis=0)\n",
    "Y_R = Y-np.mean(Y)\n",
    "\n",
    "#calculate beta\n",
    "beta = np.dot(np.linalg.inv(np.dot(X_R.T,X_R)),np.dot(X_R.T,Y_R))\n",
    "\n",
    "#predict\n",
    "X_new_R = X_new-np.mean(X,axis=0)\n",
    "Y_new_R = np.dot(X_new_R,beta)\n",
    "Y_new = Y_new_R + np.mean(Y)\n",
    "\n",
    "#print\n",
    "for i in Y_new:\n",
    "    print(round(float(i),2))"
   ]
  },
  {
   "cell_type": "code",
   "execution_count": null,
   "metadata": {},
   "outputs": [],
   "source": [
    "# Question: A large elevator can transport a maximum of 9800 pounds. Suppose a\n",
    "# load of cargo containing 49 boxes must be transported via the elevator.\n",
    "# The box weight of this type of cargo follows a distribution with a mean\n",
    "# of u = 205 pounds and a standard deviation of a = 15 pounds. Based on this\n",
    "# information, what is the probability that all 49 boxes can be safely loaded\n",
    "# into the freight elevator and transported?\n",
    "\n",
    "# Import library\n",
    "import math\n",
    "\n",
    "# Define functions\n",
    "def cumulative(mean, std, value):\n",
    "    return 0.5 * (1 + math.erf((value - mean) / (std * (2 ** 0.5))))\n",
    "\n",
    "# Set data\n",
    "max_weight = float(input())\n",
    "n = float(input())\n",
    "mean = float(input())\n",
    "std = float(input())\n",
    "\n",
    "new_mean = mean * n\n",
    "new_std = math.sqrt(n) * std\n",
    "\n",
    "# Gets the result and show on the screen\n",
    "print (round(cumulative(new_mean, new_std, max_weight),4))"
   ]
  },
  {
   "cell_type": "code",
   "execution_count": 9,
   "metadata": {},
   "outputs": [
    {
     "name": "stdout",
     "output_type": "stream",
     "text": [
      "0.401\n",
      "0.341\n"
     ]
    }
   ],
   "source": [
    "# Enter your code here. Read input from STDIN. Print output to STDOUT\n",
    "import math\n",
    "m=20\n",
    "sd=2\n",
    "def nor(x):\n",
    "    output=1/2*(1+math.erf((x-m) / sd / 2**(1/2)))\n",
    "    return output\n",
    "if __name__=='__main__':\n",
    "    result1=nor(19.5)\n",
    "    result2=nor(22)-nor(20)\n",
    "    print(round(result1,3))\n",
    "    print(round(result2,3))"
   ]
  },
  {
   "cell_type": "code",
   "execution_count": 10,
   "metadata": {},
   "outputs": [
    {
     "name": "stdout",
     "output_type": "stream",
     "text": [
      "15.87\n",
      "84.13\n",
      "15.87\n"
     ]
    }
   ],
   "source": [
    "# Enter your code here. Read input from STDIN. Print output to STDOUT\n",
    "import math\n",
    "m=70\n",
    "sd=10\n",
    "def nor(x):\n",
    "    output=1/2*(1+math.erf((x-m) / sd / 2**(1/2)))\n",
    "    return output\n",
    "\n",
    "if __name__=='__main__':\n",
    "    result1=(1-nor(80))*100\n",
    "    result2=(1-nor(60))*100\n",
    "    result3=nor(60)*100\n",
    "    print(round(result1,2))\n",
    "    print(round(result2,2))\n",
    "    print(round(result3,2))"
   ]
  },
  {
   "cell_type": "code",
   "execution_count": 11,
   "metadata": {},
   "outputs": [
    {
     "name": "stdout",
     "output_type": "stream",
     "text": [
      "\n"
     ]
    },
    {
     "ename": "ValueError",
     "evalue": "invalid literal for int() with base 10: ''",
     "output_type": "error",
     "traceback": [
      "\u001b[1;31m---------------------------------------------------------------------------\u001b[0m",
      "\u001b[1;31mValueError\u001b[0m                                Traceback (most recent call last)",
      "\u001b[1;32m<ipython-input-11-f817b7db6105>\u001b[0m in \u001b[0;36m<module>\u001b[1;34m\u001b[0m\n\u001b[0;32m      1\u001b[0m \u001b[1;31m# Enter your code here. Read input from STDIN. Print output to STDOUT\u001b[0m\u001b[1;33m\u001b[0m\u001b[1;33m\u001b[0m\u001b[1;33m\u001b[0m\u001b[0m\n\u001b[1;32m----> 2\u001b[1;33m \u001b[0mlength\u001b[0m \u001b[1;33m=\u001b[0m \u001b[0mint\u001b[0m\u001b[1;33m(\u001b[0m\u001b[0minput\u001b[0m\u001b[1;33m(\u001b[0m\u001b[1;33m)\u001b[0m\u001b[1;33m)\u001b[0m\u001b[1;33m\u001b[0m\u001b[1;33m\u001b[0m\u001b[0m\n\u001b[0m\u001b[0;32m      3\u001b[0m \u001b[0mx\u001b[0m \u001b[1;33m=\u001b[0m \u001b[0mlist\u001b[0m\u001b[1;33m(\u001b[0m\u001b[0mmap\u001b[0m\u001b[1;33m(\u001b[0m\u001b[0mfloat\u001b[0m\u001b[1;33m,\u001b[0m\u001b[0minput\u001b[0m\u001b[1;33m(\u001b[0m\u001b[1;33m)\u001b[0m\u001b[1;33m.\u001b[0m\u001b[0mstrip\u001b[0m\u001b[1;33m(\u001b[0m\u001b[1;33m)\u001b[0m\u001b[1;33m.\u001b[0m\u001b[0msplit\u001b[0m\u001b[1;33m(\u001b[0m\u001b[1;33m)\u001b[0m\u001b[1;33m)\u001b[0m\u001b[1;33m)\u001b[0m\u001b[1;33m\u001b[0m\u001b[1;33m\u001b[0m\u001b[0m\n\u001b[0;32m      4\u001b[0m \u001b[0my\u001b[0m \u001b[1;33m=\u001b[0m \u001b[0mlist\u001b[0m\u001b[1;33m(\u001b[0m\u001b[0mmap\u001b[0m\u001b[1;33m(\u001b[0m\u001b[0mfloat\u001b[0m\u001b[1;33m,\u001b[0m\u001b[0minput\u001b[0m\u001b[1;33m(\u001b[0m\u001b[1;33m)\u001b[0m\u001b[1;33m.\u001b[0m\u001b[0mstrip\u001b[0m\u001b[1;33m(\u001b[0m\u001b[1;33m)\u001b[0m\u001b[1;33m.\u001b[0m\u001b[0msplit\u001b[0m\u001b[1;33m(\u001b[0m\u001b[1;33m)\u001b[0m\u001b[1;33m)\u001b[0m\u001b[1;33m)\u001b[0m\u001b[1;33m\u001b[0m\u001b[1;33m\u001b[0m\u001b[0m\n\u001b[0;32m      5\u001b[0m \u001b[0ms\u001b[0m\u001b[1;33m=\u001b[0m\u001b[1;36m0\u001b[0m\u001b[1;33m\u001b[0m\u001b[1;33m\u001b[0m\u001b[0m\n",
      "\u001b[1;31mValueError\u001b[0m: invalid literal for int() with base 10: ''"
     ]
    }
   ],
   "source": [
    "# Enter your code here. Read input from STDIN. Print output to STDOUT\n",
    "length = int(input())\n",
    "x = list(map(float,input().strip().split()))\n",
    "y = list(map(float,input().strip().split()))\n",
    "s=0\n",
    "mx = sum(x) / length\n",
    "for i in x:\n",
    "    s += (i-mx)**2\n",
    "sdx=(s/length)**0.5\n",
    "\n",
    "my = sum(y) / length\n",
    "s=0\n",
    "for i in y:\n",
    "    s += (i-my)**2\n",
    "sdy=(s/length)**0.5\n",
    "cov=0\n",
    "for i in range(length):\n",
    "    cov +=(x[i]-mx)*(y[i]-my)\n",
    "\n",
    "cor = cov / (length * sdx * sdy)\n",
    "\n",
    "print(round(cor,3))"
   ]
  },
  {
   "cell_type": "code",
   "execution_count": 12,
   "metadata": {},
   "outputs": [
    {
     "name": "stdout",
     "output_type": "stream",
     "text": [
      "0.0098\n"
     ]
    }
   ],
   "source": [
    "# Enter your code here. Read input from STDIN. Print output to STDOUT\n",
    "import math\n",
    "tot=9800\n",
    "n=49\n",
    "m=205\n",
    "sd=15\n",
    "def cen(x,M,std):\n",
    "    output = 1/2*(1+math.erf((x-M) / std / 2**(1/2)))\n",
    "    return output\n",
    "\n",
    "M=n*m\n",
    "std=sd*n**(0.5)\n",
    "result=cen(tot,M,std)\n",
    "print(round(result,4))"
   ]
  },
  {
   "cell_type": "code",
   "execution_count": null,
   "metadata": {},
   "outputs": [],
   "source": [
    "# Question: The number of tickets purchased by each student for the\n",
    "# University X vs. University Y football game follows a distribution that has\n",
    "# a mean of u = 2.4 and a standard deviation of 20.\n",
    "# A few hours before the game starts, 100 eager students line up to purchase\n",
    "# last-minute tickets. If there are only 250 tickets left, what is the\n",
    "# probability that all 100 students will be able to purchase tickets?\n",
    "\n",
    "# Import library\n",
    "import math\n",
    "\n",
    "# Define functions\n",
    "def cumulative(mean, std, value):\n",
    "    return 0.5 * (1 + math.erf((value - mean) / (std * (2 ** 0.5))))\n",
    "\n",
    "# Set data\n",
    "max_weight = float(input())\n",
    "n = float(input())\n",
    "mean = float(input())\n",
    "std = float(input())\n",
    "\n",
    "new_mean = mean * n\n",
    "new_std = math.sqrt(n) * std\n",
    "\n",
    "# Gets the result and show on the screen\n",
    "print (round(cumulative(new_mean, new_std, max_weight),4))"
   ]
  },
  {
   "cell_type": "code",
   "execution_count": 13,
   "metadata": {},
   "outputs": [
    {
     "name": "stdout",
     "output_type": "stream",
     "text": [
      "0.6915\n"
     ]
    }
   ],
   "source": [
    "# Enter your code here. Read input from STDIN. Print output to STDOUT\n",
    "import math\n",
    "tot=250\n",
    "n=100\n",
    "m=2.4\n",
    "sd=2.0\n",
    "\n",
    "def cen(x,M,std):\n",
    "    output=1/2*(1+math.erf((x-M) / std / 2**(1/2)))\n",
    "    return output\n",
    "\n",
    "if __name__=='__main__':\n",
    "    M=n*m\n",
    "    std=sd*n**(0.5)\n",
    "    result=cen(tot,M,std)\n",
    "    print(round(result,4))"
   ]
  },
  {
   "cell_type": "code",
   "execution_count": 14,
   "metadata": {},
   "outputs": [
    {
     "name": "stdout",
     "output_type": "stream",
     "text": [
      "484.32\n",
      "515.68\n"
     ]
    }
   ],
   "source": [
    "tot=100\n",
    "m=500\n",
    "sd=80\n",
    "p=0.95\n",
    "z=1.96\n",
    "sd=sd/tot**(0.5)\n",
    "result1=m-sd*z\n",
    "result2=m+sd*z\n",
    "print(round(result1,2))\n",
    "print(round(result2,2))"
   ]
  },
  {
   "cell_type": "code",
   "execution_count": null,
   "metadata": {},
   "outputs": [],
   "source": [
    "import math\n",
    "\n",
    "# Set data\n",
    "n = float(input())\n",
    "mean = float(input())\n",
    "std = float(input())\n",
    "percent_ci = float(input())\n",
    "value_ci = float(input())\n",
    "\n",
    "# Formula CI\n",
    "ci = value_ci * (std / math.sqrt(n))\n",
    "\n",
    "# Gets the result and show on the screen\n",
    "print(round(mean - ci, 2))\n",
    "print(round(mean + ci, 2))"
   ]
  },
  {
   "cell_type": "code",
   "execution_count": null,
   "metadata": {},
   "outputs": [],
   "source": [
    "# Pearson correlation coefficient\n",
    "# Reference: https://en.wikipedia.org/wiki/Pearson_correlation_coefficient\n",
    "\n",
    "# Question: Given two n-element data sets, X and Y, calculate the value of\n",
    "# the Pearson correlation coefficient.\n",
    "\n",
    "# import libraries\n",
    "import statistics as st\n",
    "\n",
    "# define function to Pearson correlation coefficient\n",
    "def correlation_coefficient(n, dt_x, dt_y):\n",
    "    mean_x = st.mean(dt_x)\n",
    "    mean_y = st.mean(dt_y)\n",
    "    std_x = st.pstdev(dt_x)\n",
    "    std_y = st.pstdev(dt_y)\n",
    "    c = 0\n",
    "    for i in range(n):\n",
    "        c = c + (dt_x[i] - mean_x) * (dt_y[i] - mean_y)\n",
    "    return c / (n * std_x * std_y)\n",
    "\n",
    "# Set data\n",
    "n = int(float(input()))\n",
    "data_set_x = list(map(float, input().split()))\n",
    "data_set_y = list(map(float, input().split()))\n",
    "\n",
    "# Gets the result and show on the screen\n",
    "print (round(correlation_coefficient(n, data_set_x, data_set_y), 3))"
   ]
  },
  {
   "cell_type": "code",
   "execution_count": null,
   "metadata": {},
   "outputs": [],
   "source": []
  }
 ],
 "metadata": {
  "kernelspec": {
   "display_name": "Python 3",
   "language": "python",
   "name": "python3"
  },
  "language_info": {
   "codemirror_mode": {
    "name": "ipython",
    "version": 3
   },
   "file_extension": ".py",
   "mimetype": "text/x-python",
   "name": "python",
   "nbconvert_exporter": "python",
   "pygments_lexer": "ipython3",
   "version": "3.8.3"
  }
 },
 "nbformat": 4,
 "nbformat_minor": 4
}
